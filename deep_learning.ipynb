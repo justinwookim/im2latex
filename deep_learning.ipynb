{
 "cells": [
  {
   "cell_type": "code",
   "execution_count": 1,
   "metadata": {},
   "outputs": [],
   "source": [
    "import numpy as np\n",
    "import pandas as pd\n",
    "\n",
    "import pickle\n",
    "import os\n",
    "import random\n",
    "import cv2\n",
    "\n",
    "import torch                     # for all things PyTorch\n",
    "from torch import nn            # for torch.nn.Module, the parent object for PyTorch models\n",
    "from torch.nn import functional as F"
   ]
  },
  {
   "cell_type": "code",
   "execution_count": 2,
   "metadata": {},
   "outputs": [],
   "source": [
    "with open('./data.pkl', 'rb') as f:\n",
    "    loaded_data = pickle.load(f)\n",
    "\n",
    "imagesData = loaded_data['imagesData']\n",
    "imagesLabel = loaded_data['imagesLabel'] "
   ]
  },
  {
   "cell_type": "code",
   "execution_count": 131,
   "metadata": {},
   "outputs": [],
   "source": [
    "class TeXNet(nn.Module): \n",
    "    def __init__(self): \n",
    "        super(TeXNet, self).__init__()\n",
    "\n",
    "        self.conv1 = nn.Conv2d(1, 64, kernel_size=3, padding='same')\n",
    "        self.conv2 = nn.Conv2d(64, 128, kernel_size=3, padding='same') \n",
    "        self.conv3 = nn.Conv2d(128, 256, kernel_size=3, padding='same')\n",
    "        self.conv4 = nn.Conv2d(256, 256, kernel_size=3, padding='same')\n",
    "        self.conv5 = nn.Conv2d(256, 512, kernel_size=3, padding='same') \n",
    "        self.conv6 = nn.Conv2d(512, 512, kernel_size=3, padding='valid') \n",
    "\n",
    "\n",
    "    def forward(self, x): \n",
    "        print(f\"ONE: {x.shape}\") \n",
    "        x = F.relu(self.conv1(x))\n",
    "        x = F.max_pool2d(x, kernel_size=2) \n",
    "\n",
    "        print(f\"TWO: {x.shape}\") \n",
    "        x = F.relu(self.conv2(x)) \n",
    "        x = F.max_pool2d(x, kernel_size=2) \n",
    "\n",
    "        print(f\"THREE: {x.shape}\") \n",
    "        x = F.relu(self.conv3(x)) \n",
    "\n",
    "        print(f\"FOUR: {x.shape}\") \n",
    "        x = F.relu(self.conv4(x)) \n",
    "        x = F.max_pool2d(x, kernel_size=(2, 1)) \n",
    "\n",
    "\n",
    "        print(f\"FIVE: {x.shape}\")\n",
    "        x = F.relu(self.conv5(x))\n",
    "        x = F.max_pool2d(x, kernel_size=(1, 2))\n",
    "\n",
    "        print(f\"SIX: {x.shape}\")\n",
    "        x = F.relu(self.conv6(x)) \n",
    "        return x "
   ]
  },
  {
   "cell_type": "code",
   "execution_count": 132,
   "metadata": {},
   "outputs": [
    {
     "name": "stdout",
     "output_type": "stream",
     "text": [
      "TeXNet(\n",
      "  (conv1): Conv2d(1, 64, kernel_size=(3, 3), stride=(1, 1), padding=same)\n",
      "  (conv2): Conv2d(64, 128, kernel_size=(3, 3), stride=(1, 1), padding=same)\n",
      "  (conv3): Conv2d(128, 256, kernel_size=(3, 3), stride=(1, 1), padding=same)\n",
      "  (conv4): Conv2d(256, 256, kernel_size=(3, 3), stride=(1, 1), padding=same)\n",
      "  (conv5): Conv2d(256, 512, kernel_size=(3, 3), stride=(1, 1), padding=same)\n",
      "  (conv6): Conv2d(512, 512, kernel_size=(3, 3), stride=(1, 1), padding=valid)\n",
      ")\n",
      "ONE: torch.Size([1, 1, 32, 32])\n",
      "TWO: torch.Size([1, 64, 16, 16])\n",
      "THREE: torch.Size([1, 128, 8, 8])\n",
      "FOUR: torch.Size([1, 256, 8, 8])\n",
      "FIVE: torch.Size([1, 256, 4, 8])\n",
      "SIX: torch.Size([1, 512, 4, 4])\n",
      "torch.Size([1, 512, 2, 2])\n"
     ]
    }
   ],
   "source": [
    "model = TeXNet()\n",
    "print(model) \n",
    "\n",
    "input = np.array(imagesData[0], dtype=np.float32) / 255\n",
    "input = input.reshape(1, 1, 32, 32)\n",
    "tensor = torch.from_numpy(input) \n",
    "output = model(tensor) \n",
    "# print(output)\n",
    "print(output.shape) \n"
   ]
  },
  {
   "cell_type": "code",
   "execution_count": 122,
   "metadata": {},
   "outputs": [
    {
     "name": "stdout",
     "output_type": "stream",
     "text": [
      "Input shape: torch.Size([1, 1, 32, 32])\n",
      "Output shape: torch.Size([1, 1, 31, 31])\n"
     ]
    }
   ],
   "source": [
    "# Define max pooling with kernel size 2, stride 1, and padding 1\n",
    "max_pool = nn.MaxPool2d(kernel_size=2, stride=1, padding=0, ceil_mode=True)\n",
    "\n",
    "# Example input (batch size=1, channels=1, height=32, width=32)\n",
    "input_tensor = torch.randn(1, 1, 32, 32)\n",
    "\n",
    "# Apply max pooling\n",
    "output_tensor = max_pool(input_tensor)\n",
    "\n",
    "print(\"Input shape:\", input_tensor.shape)\n",
    "print(\"Output shape:\", output_tensor.shape)"
   ]
  },
  {
   "cell_type": "code",
   "execution_count": null,
   "metadata": {},
   "outputs": [],
   "source": []
  }
 ],
 "metadata": {
  "kernelspec": {
   "display_name": "env",
   "language": "python",
   "name": "python3"
  },
  "language_info": {
   "codemirror_mode": {
    "name": "ipython",
    "version": 3
   },
   "file_extension": ".py",
   "mimetype": "text/x-python",
   "name": "python",
   "nbconvert_exporter": "python",
   "pygments_lexer": "ipython3",
   "version": "3.9.5"
  }
 },
 "nbformat": 4,
 "nbformat_minor": 2
}
