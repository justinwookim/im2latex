{
 "cells": [
  {
   "cell_type": "code",
   "execution_count": 13,
   "metadata": {},
   "outputs": [],
   "source": [
    "import numpy as np\n",
    "import pandas as pd\n",
    "\n",
    "import pickle\n",
    "import os\n",
    "import random\n",
    "import cv2"
   ]
  },
  {
   "cell_type": "code",
   "execution_count": 15,
   "metadata": {},
   "outputs": [],
   "source": [
    "def extractImages(datadir):\n",
    "    # Get the data\n",
    "    imagesData = []\n",
    "    imagesLabel = []\n",
    "    for folder in os.listdir(datadir):\n",
    "        path = os.path.join(datadir, folder)\n",
    "        for images in os.listdir(path):\n",
    "            img = cv2.imread(os.path.join(path, images), cv2.IMREAD_GRAYSCALE)\n",
    "            # img = cv2.resize(img, (32, 32))\n",
    "            imagesData.append(img)\n",
    "            imagesLabel.append(folder)\n",
    "            \n",
    "    # Shuffle data\n",
    "    combined = list(zip(imagesData, imagesLabel))\n",
    "    random.shuffle(combined)\n",
    "    imagesData, imagesLabel = zip(*combined)\n",
    "    \n",
    "    return (imagesData, imagesLabel)"
   ]
  },
  {
   "cell_type": "code",
   "execution_count": 16,
   "metadata": {},
   "outputs": [],
   "source": [
    "# Import train data\n",
    "imagesData = []\n",
    "imagesLabel = []\n",
    "train_data_dir = 'data'\n",
    "\n",
    "imagesData, imagesLabel = extractImages(train_data_dir) "
   ]
  },
  {
   "cell_type": "code",
   "execution_count": 25,
   "metadata": {},
   "outputs": [],
   "source": [
    "data_to_save = {\"imagesData\": imagesData, \"imagesLabel\": imagesLabel} \n",
    "\n",
    "with open('./data.pkl', 'wb') as f: \n",
    "    pickle.dump(data_to_save, f) "
   ]
  },
  {
   "cell_type": "code",
   "execution_count": 26,
   "metadata": {},
   "outputs": [],
   "source": [
    "with open('./data.pkl', 'rb') as f:\n",
    "    loaded_data = pickle.load(f)\n",
    "\n",
    "imagesDataTest = loaded_data['imagesData']\n",
    "imagesLabelTest = loaded_data['imagesLabel'] "
   ]
  }
 ],
 "metadata": {
  "kernelspec": {
   "display_name": "env",
   "language": "python",
   "name": "python3"
  },
  "language_info": {
   "codemirror_mode": {
    "name": "ipython",
    "version": 3
   },
   "file_extension": ".py",
   "mimetype": "text/x-python",
   "name": "python",
   "nbconvert_exporter": "python",
   "pygments_lexer": "ipython3",
   "version": "3.9.5"
  }
 },
 "nbformat": 4,
 "nbformat_minor": 2
}
